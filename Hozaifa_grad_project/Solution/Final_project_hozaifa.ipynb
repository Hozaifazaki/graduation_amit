{
  "cells": [
    {
      "cell_type": "markdown",
      "id": "454ea883",
      "metadata": {
        "id": "454ea883"
      },
      "source": [
        "### Importing Libraries"
      ]
    },
    {
      "cell_type": "code",
      "execution_count": 56,
      "id": "9abe1005",
      "metadata": {
        "id": "9abe1005"
      },
      "outputs": [],
      "source": [
        "import numpy as np\n",
        "import pandas as pd \n",
        "\n",
        "import seaborn as sns\n",
        "import matplotlib.pyplot as plt \n",
        "\n",
        "from sklearn.model_selection import train_test_split \n",
        "from nltk.corpus import stopwords \n",
        "from collections import Counter\n",
        "import string \n",
        "\n",
        "from nltk.tokenize import regexp_tokenize \n",
        "\n",
        "plt.style.use('seaborn-whitegrid')\n"
      ]
    },
    {
      "cell_type": "code",
      "execution_count": 57,
      "id": "cc5d67b0",
      "metadata": {
        "id": "cc5d67b0"
      },
      "outputs": [],
      "source": [
        "train = pd.read_csv('train.csv') "
      ]
    },
    {
      "cell_type": "code",
      "execution_count": 58,
      "id": "aa68cee3",
      "metadata": {
        "colab": {
          "base_uri": "https://localhost:8080/",
          "height": 206
        },
        "id": "aa68cee3",
        "outputId": "d13d8584-6740-4521-9f75-ea4724029023"
      },
      "outputs": [
        {
          "output_type": "execute_result",
          "data": {
            "text/plain": [
              "   id keyword location                                               text  \\\n",
              "0   1     NaN      NaN  Our Deeds are the Reason of this #earthquake M...   \n",
              "1   4     NaN      NaN             Forest fire near La Ronge Sask. Canada   \n",
              "2   5     NaN      NaN  All residents asked to 'shelter in place' are ...   \n",
              "3   6     NaN      NaN  13,000 people receive #wildfires evacuation or...   \n",
              "4   7     NaN      NaN  Just got sent this photo from Ruby #Alaska as ...   \n",
              "\n",
              "   target  \n",
              "0       1  \n",
              "1       1  \n",
              "2       1  \n",
              "3       1  \n",
              "4       1  "
            ],
            "text/html": [
              "\n",
              "  <div id=\"df-772b82dd-8420-481e-9518-227904f5ee92\">\n",
              "    <div class=\"colab-df-container\">\n",
              "      <div>\n",
              "<style scoped>\n",
              "    .dataframe tbody tr th:only-of-type {\n",
              "        vertical-align: middle;\n",
              "    }\n",
              "\n",
              "    .dataframe tbody tr th {\n",
              "        vertical-align: top;\n",
              "    }\n",
              "\n",
              "    .dataframe thead th {\n",
              "        text-align: right;\n",
              "    }\n",
              "</style>\n",
              "<table border=\"1\" class=\"dataframe\">\n",
              "  <thead>\n",
              "    <tr style=\"text-align: right;\">\n",
              "      <th></th>\n",
              "      <th>id</th>\n",
              "      <th>keyword</th>\n",
              "      <th>location</th>\n",
              "      <th>text</th>\n",
              "      <th>target</th>\n",
              "    </tr>\n",
              "  </thead>\n",
              "  <tbody>\n",
              "    <tr>\n",
              "      <th>0</th>\n",
              "      <td>1</td>\n",
              "      <td>NaN</td>\n",
              "      <td>NaN</td>\n",
              "      <td>Our Deeds are the Reason of this #earthquake M...</td>\n",
              "      <td>1</td>\n",
              "    </tr>\n",
              "    <tr>\n",
              "      <th>1</th>\n",
              "      <td>4</td>\n",
              "      <td>NaN</td>\n",
              "      <td>NaN</td>\n",
              "      <td>Forest fire near La Ronge Sask. Canada</td>\n",
              "      <td>1</td>\n",
              "    </tr>\n",
              "    <tr>\n",
              "      <th>2</th>\n",
              "      <td>5</td>\n",
              "      <td>NaN</td>\n",
              "      <td>NaN</td>\n",
              "      <td>All residents asked to 'shelter in place' are ...</td>\n",
              "      <td>1</td>\n",
              "    </tr>\n",
              "    <tr>\n",
              "      <th>3</th>\n",
              "      <td>6</td>\n",
              "      <td>NaN</td>\n",
              "      <td>NaN</td>\n",
              "      <td>13,000 people receive #wildfires evacuation or...</td>\n",
              "      <td>1</td>\n",
              "    </tr>\n",
              "    <tr>\n",
              "      <th>4</th>\n",
              "      <td>7</td>\n",
              "      <td>NaN</td>\n",
              "      <td>NaN</td>\n",
              "      <td>Just got sent this photo from Ruby #Alaska as ...</td>\n",
              "      <td>1</td>\n",
              "    </tr>\n",
              "  </tbody>\n",
              "</table>\n",
              "</div>\n",
              "      <button class=\"colab-df-convert\" onclick=\"convertToInteractive('df-772b82dd-8420-481e-9518-227904f5ee92')\"\n",
              "              title=\"Convert this dataframe to an interactive table.\"\n",
              "              style=\"display:none;\">\n",
              "        \n",
              "  <svg xmlns=\"http://www.w3.org/2000/svg\" height=\"24px\"viewBox=\"0 0 24 24\"\n",
              "       width=\"24px\">\n",
              "    <path d=\"M0 0h24v24H0V0z\" fill=\"none\"/>\n",
              "    <path d=\"M18.56 5.44l.94 2.06.94-2.06 2.06-.94-2.06-.94-.94-2.06-.94 2.06-2.06.94zm-11 1L8.5 8.5l.94-2.06 2.06-.94-2.06-.94L8.5 2.5l-.94 2.06-2.06.94zm10 10l.94 2.06.94-2.06 2.06-.94-2.06-.94-.94-2.06-.94 2.06-2.06.94z\"/><path d=\"M17.41 7.96l-1.37-1.37c-.4-.4-.92-.59-1.43-.59-.52 0-1.04.2-1.43.59L10.3 9.45l-7.72 7.72c-.78.78-.78 2.05 0 2.83L4 21.41c.39.39.9.59 1.41.59.51 0 1.02-.2 1.41-.59l7.78-7.78 2.81-2.81c.8-.78.8-2.07 0-2.86zM5.41 20L4 18.59l7.72-7.72 1.47 1.35L5.41 20z\"/>\n",
              "  </svg>\n",
              "      </button>\n",
              "      \n",
              "  <style>\n",
              "    .colab-df-container {\n",
              "      display:flex;\n",
              "      flex-wrap:wrap;\n",
              "      gap: 12px;\n",
              "    }\n",
              "\n",
              "    .colab-df-convert {\n",
              "      background-color: #E8F0FE;\n",
              "      border: none;\n",
              "      border-radius: 50%;\n",
              "      cursor: pointer;\n",
              "      display: none;\n",
              "      fill: #1967D2;\n",
              "      height: 32px;\n",
              "      padding: 0 0 0 0;\n",
              "      width: 32px;\n",
              "    }\n",
              "\n",
              "    .colab-df-convert:hover {\n",
              "      background-color: #E2EBFA;\n",
              "      box-shadow: 0px 1px 2px rgba(60, 64, 67, 0.3), 0px 1px 3px 1px rgba(60, 64, 67, 0.15);\n",
              "      fill: #174EA6;\n",
              "    }\n",
              "\n",
              "    [theme=dark] .colab-df-convert {\n",
              "      background-color: #3B4455;\n",
              "      fill: #D2E3FC;\n",
              "    }\n",
              "\n",
              "    [theme=dark] .colab-df-convert:hover {\n",
              "      background-color: #434B5C;\n",
              "      box-shadow: 0px 1px 3px 1px rgba(0, 0, 0, 0.15);\n",
              "      filter: drop-shadow(0px 1px 2px rgba(0, 0, 0, 0.3));\n",
              "      fill: #FFFFFF;\n",
              "    }\n",
              "  </style>\n",
              "\n",
              "      <script>\n",
              "        const buttonEl =\n",
              "          document.querySelector('#df-772b82dd-8420-481e-9518-227904f5ee92 button.colab-df-convert');\n",
              "        buttonEl.style.display =\n",
              "          google.colab.kernel.accessAllowed ? 'block' : 'none';\n",
              "\n",
              "        async function convertToInteractive(key) {\n",
              "          const element = document.querySelector('#df-772b82dd-8420-481e-9518-227904f5ee92');\n",
              "          const dataTable =\n",
              "            await google.colab.kernel.invokeFunction('convertToInteractive',\n",
              "                                                     [key], {});\n",
              "          if (!dataTable) return;\n",
              "\n",
              "          const docLinkHtml = 'Like what you see? Visit the ' +\n",
              "            '<a target=\"_blank\" href=https://colab.research.google.com/notebooks/data_table.ipynb>data table notebook</a>'\n",
              "            + ' to learn more about interactive tables.';\n",
              "          element.innerHTML = '';\n",
              "          dataTable['output_type'] = 'display_data';\n",
              "          await google.colab.output.renderOutput(dataTable, element);\n",
              "          const docLink = document.createElement('div');\n",
              "          docLink.innerHTML = docLinkHtml;\n",
              "          element.appendChild(docLink);\n",
              "        }\n",
              "      </script>\n",
              "    </div>\n",
              "  </div>\n",
              "  "
            ]
          },
          "metadata": {},
          "execution_count": 58
        }
      ],
      "source": [
        "train.head()"
      ]
    },
    {
      "cell_type": "markdown",
      "id": "06d04c17",
      "metadata": {
        "id": "06d04c17"
      },
      "source": [
        "### data expolaration and analysis"
      ]
    },
    {
      "cell_type": "code",
      "execution_count": 59,
      "id": "a261c515",
      "metadata": {
        "colab": {
          "base_uri": "https://localhost:8080/"
        },
        "id": "a261c515",
        "outputId": "b6ac0160-1b5c-4abe-ce8f-8d239955d64b"
      },
      "outputs": [
        {
          "output_type": "stream",
          "name": "stdout",
          "text": [
            "<class 'pandas.core.frame.DataFrame'>\n",
            "RangeIndex: 7613 entries, 0 to 7612\n",
            "Data columns (total 5 columns):\n",
            " #   Column    Non-Null Count  Dtype \n",
            "---  ------    --------------  ----- \n",
            " 0   id        7613 non-null   int64 \n",
            " 1   keyword   7552 non-null   object\n",
            " 2   location  5080 non-null   object\n",
            " 3   text      7613 non-null   object\n",
            " 4   target    7613 non-null   int64 \n",
            "dtypes: int64(2), object(3)\n",
            "memory usage: 297.5+ KB\n"
          ]
        }
      ],
      "source": [
        "train.info()"
      ]
    },
    {
      "cell_type": "markdown",
      "source": [
        "    it seems like it has a nan values"
      ],
      "metadata": {
        "id": "7J4VrDyLQ85G"
      },
      "id": "7J4VrDyLQ85G"
    },
    {
      "cell_type": "code",
      "source": [
        "# check nan values\n",
        "train.isnull().sum()"
      ],
      "metadata": {
        "colab": {
          "base_uri": "https://localhost:8080/"
        },
        "id": "RhdE2zmfRF92",
        "outputId": "4ab91e30-f526-4dd7-999d-928eff67a923"
      },
      "id": "RhdE2zmfRF92",
      "execution_count": 65,
      "outputs": [
        {
          "output_type": "execute_result",
          "data": {
            "text/plain": [
              "id             0\n",
              "keyword       61\n",
              "location    2533\n",
              "text           0\n",
              "target         0\n",
              "dtype: int64"
            ]
          },
          "metadata": {},
          "execution_count": 65
        }
      ]
    },
    {
      "cell_type": "code",
      "source": [
        "print(f'percentage of \"keyword\" = { (train[\"keyword\"].isnull().sum() / len(train))*100 }')"
      ],
      "metadata": {
        "colab": {
          "base_uri": "https://localhost:8080/"
        },
        "id": "ATQoltr6YHC0",
        "outputId": "594d80dc-32d0-47c2-ef70-067a73756f55"
      },
      "id": "ATQoltr6YHC0",
      "execution_count": 74,
      "outputs": [
        {
          "output_type": "stream",
          "name": "stdout",
          "text": [
            "percentage of \"keyword\" = 0.8012610009194797\n"
          ]
        }
      ]
    },
    {
      "cell_type": "code",
      "source": [
        "print(f'percentage of \"location\" = {(train[\"location\"].isnull().sum() / len(train))*100}')\n"
      ],
      "metadata": {
        "colab": {
          "base_uri": "https://localhost:8080/"
        },
        "id": "D88fiti7YpHG",
        "outputId": "8941b1b1-162a-411f-a2bb-08054ecd2868"
      },
      "id": "D88fiti7YpHG",
      "execution_count": 75,
      "outputs": [
        {
          "output_type": "stream",
          "name": "stdout",
          "text": [
            "percentage of \"location\" = 33.27203467752528\n"
          ]
        }
      ]
    },
    {
      "cell_type": "markdown",
      "source": [
        "    there is a lot of nan values\n"
      ],
      "metadata": {
        "id": "83roK5J6RXyp"
      },
      "id": "83roK5J6RXyp"
    },
    {
      "cell_type": "code",
      "source": [
        "# handling\n",
        "train.dropna(inplace = True)"
      ],
      "metadata": {
        "id": "qWO2AJMURvkK"
      },
      "id": "qWO2AJMURvkK",
      "execution_count": 76,
      "outputs": []
    },
    {
      "cell_type": "code",
      "source": [
        "# check after handled\n",
        "train.isnull().sum().any()"
      ],
      "metadata": {
        "colab": {
          "base_uri": "https://localhost:8080/"
        },
        "id": "beEPf2vPRzvd",
        "outputId": "19b333f1-52b7-4615-ca76-b8b945bd3efb"
      },
      "id": "beEPf2vPRzvd",
      "execution_count": 77,
      "outputs": [
        {
          "output_type": "execute_result",
          "data": {
            "text/plain": [
              "False"
            ]
          },
          "metadata": {},
          "execution_count": 77
        }
      ]
    },
    {
      "cell_type": "code",
      "source": [
        "train"
      ],
      "metadata": {
        "colab": {
          "base_uri": "https://localhost:8080/",
          "height": 423
        },
        "id": "bZs4z-EZZMbc",
        "outputId": "f22032b7-2c77-421a-8ebc-8e604b0c7aff"
      },
      "id": "bZs4z-EZZMbc",
      "execution_count": 79,
      "outputs": [
        {
          "output_type": "execute_result",
          "data": {
            "text/plain": [
              "         id  keyword                       location  \\\n",
              "31       48   ablaze                     Birmingham   \n",
              "32       49   ablaze  Est. September 2012 - Bristol   \n",
              "33       50   ablaze                         AFRICA   \n",
              "34       52   ablaze               Philadelphia, PA   \n",
              "35       53   ablaze                     London, UK   \n",
              "...     ...      ...                            ...   \n",
              "7575  10826  wrecked                             TN   \n",
              "7577  10829  wrecked         #NewcastleuponTyne #UK   \n",
              "7579  10831  wrecked              Vancouver, Canada   \n",
              "7580  10832  wrecked                        London    \n",
              "7581  10833  wrecked                        Lincoln   \n",
              "\n",
              "                                                   text  target  \n",
              "31    @bbcmtd Wholesale Markets ablaze http://t.co/l...       1  \n",
              "32    We always try to bring the heavy. #metal #RT h...       0  \n",
              "33    #AFRICANBAZE: Breaking news:Nigeria flag set a...       1  \n",
              "34                   Crying out for more! Set me ablaze       0  \n",
              "35    On plus side LOOK AT THE SKY LAST NIGHT IT WAS...       0  \n",
              "...                                                 ...     ...  \n",
              "7575  On the bright side I wrecked http://t.co/uEa0t...       0  \n",
              "7577  @widda16 ... He's gone. You can relax. I thoug...       0  \n",
              "7579  Three days off from work and they've pretty mu...       0  \n",
              "7580  #FX #forex #trading Cramer: Iger's 3 words tha...       0  \n",
              "7581  @engineshed Great atmosphere at the British Li...       0  \n",
              "\n",
              "[5080 rows x 5 columns]"
            ],
            "text/html": [
              "\n",
              "  <div id=\"df-e25075df-fd06-4e5c-9e23-9ab745a6ef1e\">\n",
              "    <div class=\"colab-df-container\">\n",
              "      <div>\n",
              "<style scoped>\n",
              "    .dataframe tbody tr th:only-of-type {\n",
              "        vertical-align: middle;\n",
              "    }\n",
              "\n",
              "    .dataframe tbody tr th {\n",
              "        vertical-align: top;\n",
              "    }\n",
              "\n",
              "    .dataframe thead th {\n",
              "        text-align: right;\n",
              "    }\n",
              "</style>\n",
              "<table border=\"1\" class=\"dataframe\">\n",
              "  <thead>\n",
              "    <tr style=\"text-align: right;\">\n",
              "      <th></th>\n",
              "      <th>id</th>\n",
              "      <th>keyword</th>\n",
              "      <th>location</th>\n",
              "      <th>text</th>\n",
              "      <th>target</th>\n",
              "    </tr>\n",
              "  </thead>\n",
              "  <tbody>\n",
              "    <tr>\n",
              "      <th>31</th>\n",
              "      <td>48</td>\n",
              "      <td>ablaze</td>\n",
              "      <td>Birmingham</td>\n",
              "      <td>@bbcmtd Wholesale Markets ablaze http://t.co/l...</td>\n",
              "      <td>1</td>\n",
              "    </tr>\n",
              "    <tr>\n",
              "      <th>32</th>\n",
              "      <td>49</td>\n",
              "      <td>ablaze</td>\n",
              "      <td>Est. September 2012 - Bristol</td>\n",
              "      <td>We always try to bring the heavy. #metal #RT h...</td>\n",
              "      <td>0</td>\n",
              "    </tr>\n",
              "    <tr>\n",
              "      <th>33</th>\n",
              "      <td>50</td>\n",
              "      <td>ablaze</td>\n",
              "      <td>AFRICA</td>\n",
              "      <td>#AFRICANBAZE: Breaking news:Nigeria flag set a...</td>\n",
              "      <td>1</td>\n",
              "    </tr>\n",
              "    <tr>\n",
              "      <th>34</th>\n",
              "      <td>52</td>\n",
              "      <td>ablaze</td>\n",
              "      <td>Philadelphia, PA</td>\n",
              "      <td>Crying out for more! Set me ablaze</td>\n",
              "      <td>0</td>\n",
              "    </tr>\n",
              "    <tr>\n",
              "      <th>35</th>\n",
              "      <td>53</td>\n",
              "      <td>ablaze</td>\n",
              "      <td>London, UK</td>\n",
              "      <td>On plus side LOOK AT THE SKY LAST NIGHT IT WAS...</td>\n",
              "      <td>0</td>\n",
              "    </tr>\n",
              "    <tr>\n",
              "      <th>...</th>\n",
              "      <td>...</td>\n",
              "      <td>...</td>\n",
              "      <td>...</td>\n",
              "      <td>...</td>\n",
              "      <td>...</td>\n",
              "    </tr>\n",
              "    <tr>\n",
              "      <th>7575</th>\n",
              "      <td>10826</td>\n",
              "      <td>wrecked</td>\n",
              "      <td>TN</td>\n",
              "      <td>On the bright side I wrecked http://t.co/uEa0t...</td>\n",
              "      <td>0</td>\n",
              "    </tr>\n",
              "    <tr>\n",
              "      <th>7577</th>\n",
              "      <td>10829</td>\n",
              "      <td>wrecked</td>\n",
              "      <td>#NewcastleuponTyne #UK</td>\n",
              "      <td>@widda16 ... He's gone. You can relax. I thoug...</td>\n",
              "      <td>0</td>\n",
              "    </tr>\n",
              "    <tr>\n",
              "      <th>7579</th>\n",
              "      <td>10831</td>\n",
              "      <td>wrecked</td>\n",
              "      <td>Vancouver, Canada</td>\n",
              "      <td>Three days off from work and they've pretty mu...</td>\n",
              "      <td>0</td>\n",
              "    </tr>\n",
              "    <tr>\n",
              "      <th>7580</th>\n",
              "      <td>10832</td>\n",
              "      <td>wrecked</td>\n",
              "      <td>London</td>\n",
              "      <td>#FX #forex #trading Cramer: Iger's 3 words tha...</td>\n",
              "      <td>0</td>\n",
              "    </tr>\n",
              "    <tr>\n",
              "      <th>7581</th>\n",
              "      <td>10833</td>\n",
              "      <td>wrecked</td>\n",
              "      <td>Lincoln</td>\n",
              "      <td>@engineshed Great atmosphere at the British Li...</td>\n",
              "      <td>0</td>\n",
              "    </tr>\n",
              "  </tbody>\n",
              "</table>\n",
              "<p>5080 rows × 5 columns</p>\n",
              "</div>\n",
              "      <button class=\"colab-df-convert\" onclick=\"convertToInteractive('df-e25075df-fd06-4e5c-9e23-9ab745a6ef1e')\"\n",
              "              title=\"Convert this dataframe to an interactive table.\"\n",
              "              style=\"display:none;\">\n",
              "        \n",
              "  <svg xmlns=\"http://www.w3.org/2000/svg\" height=\"24px\"viewBox=\"0 0 24 24\"\n",
              "       width=\"24px\">\n",
              "    <path d=\"M0 0h24v24H0V0z\" fill=\"none\"/>\n",
              "    <path d=\"M18.56 5.44l.94 2.06.94-2.06 2.06-.94-2.06-.94-.94-2.06-.94 2.06-2.06.94zm-11 1L8.5 8.5l.94-2.06 2.06-.94-2.06-.94L8.5 2.5l-.94 2.06-2.06.94zm10 10l.94 2.06.94-2.06 2.06-.94-2.06-.94-.94-2.06-.94 2.06-2.06.94z\"/><path d=\"M17.41 7.96l-1.37-1.37c-.4-.4-.92-.59-1.43-.59-.52 0-1.04.2-1.43.59L10.3 9.45l-7.72 7.72c-.78.78-.78 2.05 0 2.83L4 21.41c.39.39.9.59 1.41.59.51 0 1.02-.2 1.41-.59l7.78-7.78 2.81-2.81c.8-.78.8-2.07 0-2.86zM5.41 20L4 18.59l7.72-7.72 1.47 1.35L5.41 20z\"/>\n",
              "  </svg>\n",
              "      </button>\n",
              "      \n",
              "  <style>\n",
              "    .colab-df-container {\n",
              "      display:flex;\n",
              "      flex-wrap:wrap;\n",
              "      gap: 12px;\n",
              "    }\n",
              "\n",
              "    .colab-df-convert {\n",
              "      background-color: #E8F0FE;\n",
              "      border: none;\n",
              "      border-radius: 50%;\n",
              "      cursor: pointer;\n",
              "      display: none;\n",
              "      fill: #1967D2;\n",
              "      height: 32px;\n",
              "      padding: 0 0 0 0;\n",
              "      width: 32px;\n",
              "    }\n",
              "\n",
              "    .colab-df-convert:hover {\n",
              "      background-color: #E2EBFA;\n",
              "      box-shadow: 0px 1px 2px rgba(60, 64, 67, 0.3), 0px 1px 3px 1px rgba(60, 64, 67, 0.15);\n",
              "      fill: #174EA6;\n",
              "    }\n",
              "\n",
              "    [theme=dark] .colab-df-convert {\n",
              "      background-color: #3B4455;\n",
              "      fill: #D2E3FC;\n",
              "    }\n",
              "\n",
              "    [theme=dark] .colab-df-convert:hover {\n",
              "      background-color: #434B5C;\n",
              "      box-shadow: 0px 1px 3px 1px rgba(0, 0, 0, 0.15);\n",
              "      filter: drop-shadow(0px 1px 2px rgba(0, 0, 0, 0.3));\n",
              "      fill: #FFFFFF;\n",
              "    }\n",
              "  </style>\n",
              "\n",
              "      <script>\n",
              "        const buttonEl =\n",
              "          document.querySelector('#df-e25075df-fd06-4e5c-9e23-9ab745a6ef1e button.colab-df-convert');\n",
              "        buttonEl.style.display =\n",
              "          google.colab.kernel.accessAllowed ? 'block' : 'none';\n",
              "\n",
              "        async function convertToInteractive(key) {\n",
              "          const element = document.querySelector('#df-e25075df-fd06-4e5c-9e23-9ab745a6ef1e');\n",
              "          const dataTable =\n",
              "            await google.colab.kernel.invokeFunction('convertToInteractive',\n",
              "                                                     [key], {});\n",
              "          if (!dataTable) return;\n",
              "\n",
              "          const docLinkHtml = 'Like what you see? Visit the ' +\n",
              "            '<a target=\"_blank\" href=https://colab.research.google.com/notebooks/data_table.ipynb>data table notebook</a>'\n",
              "            + ' to learn more about interactive tables.';\n",
              "          element.innerHTML = '';\n",
              "          dataTable['output_type'] = 'display_data';\n",
              "          await google.colab.output.renderOutput(dataTable, element);\n",
              "          const docLink = document.createElement('div');\n",
              "          docLink.innerHTML = docLinkHtml;\n",
              "          element.appendChild(docLink);\n",
              "        }\n",
              "      </script>\n",
              "    </div>\n",
              "  </div>\n",
              "  "
            ]
          },
          "metadata": {},
          "execution_count": 79
        }
      ]
    },
    {
      "cell_type": "code",
      "source": [
        "train.reset_index(inplace = True)"
      ],
      "metadata": {
        "id": "oZGPXOjeZUHN"
      },
      "id": "oZGPXOjeZUHN",
      "execution_count": 82,
      "outputs": []
    },
    {
      "cell_type": "markdown",
      "id": "d0489400",
      "metadata": {
        "id": "d0489400"
      },
      "source": [
        "### Plot the class distribution "
      ]
    },
    {
      "cell_type": "code",
      "execution_count": 101,
      "id": "2dbfb07e",
      "metadata": {
        "colab": {
          "base_uri": "https://localhost:8080/",
          "height": 305
        },
        "id": "2dbfb07e",
        "outputId": "11de0223-10f3-4216-ff17-5bccf8987e90"
      },
      "outputs": [
        {
          "output_type": "display_data",
          "data": {
            "text/plain": [
              "<Figure size 432x288 with 1 Axes>"
            ],
            "image/png": "[encoded data removed]"
          },
          "metadata": {}
        }
      ],
      "source": [
        "dis_types = ['non_diseater','diseater']\n",
        "df = train.copy()\n",
        "df['target'] = train['target'].map(lambda x : dis_types[x])\n",
        "\n",
        "sns.countplot(x='target', data=df)\n",
        "plt.suptitle('Target Distribution')\n",
        "plt.show()"
      ]
    },
    {
      "cell_type": "markdown",
      "source": [
        "    it maybe an implanced classes but with small ration not affect"
      ],
      "metadata": {
        "id": "FL99QB-7SDEV"
      },
      "id": "FL99QB-7SDEV"
    },
    {
      "cell_type": "markdown",
      "id": "6441fe9e",
      "metadata": {
        "id": "6441fe9e"
      },
      "source": [
        "### plot top 15 keywords"
      ]
    },
    {
      "cell_type": "code",
      "execution_count": 102,
      "id": "98e70b65",
      "metadata": {
        "colab": {
          "base_uri": "https://localhost:8080/"
        },
        "id": "98e70b65",
        "outputId": "474d5c59-4eab-4446-ae88-bb23129c50d5"
      },
      "outputs": [
        {
          "output_type": "execute_result",
          "data": {
            "text/plain": [
              "collision                36\n",
              "whirlwind                33\n",
              "armageddon               32\n",
              "fatalities               32\n",
              "flames                   31\n",
              "                         ..\n",
              "razed                    10\n",
              "epicentre                 9\n",
              "detonation                8\n",
              "radiation%20emergency     6\n",
              "inundation                5\n",
              "Name: keyword, Length: 221, dtype: int64"
            ]
          },
          "metadata": {},
          "execution_count": 102
        }
      ],
      "source": [
        "# keywords value_counts\n",
        "train['keyword'].value_counts()"
      ]
    },
    {
      "cell_type": "code",
      "execution_count": 103,
      "id": "f3a1400a",
      "metadata": {
        "colab": {
          "base_uri": "https://localhost:8080/",
          "height": 506
        },
        "id": "f3a1400a",
        "outputId": "3fa86680-c36e-448b-8409-790e442acb0f"
      },
      "outputs": [
        {
          "output_type": "display_data",
          "data": {
            "text/plain": [
              "<Figure size 720x360 with 0 Axes>"
            ]
          },
          "metadata": {}
        },
        {
          "output_type": "display_data",
          "data": {
            "text/plain": [
              "<Figure size 1080x504 with 2 Axes>"
            ],
            "image/png": "[encoded data removed]"
          },
          "metadata": {}
        }
      ],
      "source": [
        "# top 15 keywords\n",
        "\n",
        "disaster = train[train['target']==1]['keyword'].value_counts()\n",
        "none_disaster = train[train['target']==0]['keyword'].value_counts()\n",
        "\n",
        "disaster = disaster[:15]\n",
        "none_disaster = none_disaster[:15]\n",
        "\n",
        "plt.figure(figsize=(10, 5))\n",
        "\n",
        "fig, (ax1,ax2) = plt.subplots(ncols=2, figsize=(15,7))\n",
        "\n",
        "sns.barplot(x=none_disaster.values, y=none_disaster.index, ax=ax1)\n",
        "ax1.set(xlabel='Count', ylabel='Keyword', title='Non disaster')\n",
        "\n",
        "sns.barplot(x=disaster.values, y=disaster.index, ax=ax2)\n",
        "ax2.set(xlabel='Count', title='Disaster')\n",
        "\n",
        "plt.suptitle('Top 15 Keywords')\n",
        "plt.show()"
      ]
    },
    {
      "cell_type": "markdown",
      "id": "0f61224a",
      "metadata": {
        "id": "0f61224a"
      },
      "source": [
        "### top 15 locations"
      ]
    },
    {
      "cell_type": "code",
      "execution_count": 104,
      "id": "262416b0",
      "metadata": {
        "colab": {
          "base_uri": "https://localhost:8080/",
          "height": 506
        },
        "id": "262416b0",
        "outputId": "e1a0bc77-894a-4a5d-c51a-a02fad9f94e0"
      },
      "outputs": [
        {
          "output_type": "display_data",
          "data": {
            "text/plain": [
              "<Figure size 720x360 with 0 Axes>"
            ]
          },
          "metadata": {}
        },
        {
          "output_type": "display_data",
          "data": {
            "text/plain": [
              "<Figure size 1080x504 with 2 Axes>"
            ],
            "image/png": "[encoded data removed]"
          },
          "metadata": {}
        }
      ],
      "source": [
        "#top 15 locations\n",
        "disaster = train[train['target']==1]['location'].value_counts()\n",
        "none_disaster = train[train['target']==0]['location'].value_counts()\n",
        "\n",
        "disaster = disaster[:15]\n",
        "none_disaster = none_disaster[:15]\n",
        "\n",
        "plt.figure(figsize=(10, 5))\n",
        "\n",
        "fig, (ax1,ax2) = plt.subplots(ncols=2, figsize=(15,7))\n",
        "\n",
        "sns.barplot(x=none_disaster.values, y=none_disaster.index, ax=ax1)\n",
        "ax1.set(xlabel='Count', ylabel='Locations', title='Non disaster')\n",
        "\n",
        "sns.barplot(x=disaster.values, y=disaster.index, ax=ax2)\n",
        "ax2.set(xlabel='Count', title='Disaster')\n",
        "\n",
        "plt.suptitle('Top 15 Locations')\n",
        "plt.show()"
      ]
    },
    {
      "cell_type": "markdown",
      "id": "9bc73975",
      "metadata": {
        "id": "9bc73975"
      },
      "source": [
        "### 7- Most common words"
      ]
    },
    {
      "cell_type": "code",
      "execution_count": 105,
      "id": "244f7cd1",
      "metadata": {
        "id": "244f7cd1"
      },
      "outputs": [],
      "source": [
        "def list_of_words(target):\n",
        "    corpus = []\n",
        "    for x in train[train['target']==target]['text'].str.split():\n",
        "        for i in x:\n",
        "            corpus.append(i)\n",
        "    \n",
        "    return corpus\n",
        "\n",
        "disaster = list_of_words(1)\n",
        "non_disaster = list_of_words(0)"
      ]
    },
    {
      "cell_type": "code",
      "source": [
        "len(non_disaster), len(disaster)"
      ],
      "metadata": {
        "colab": {
          "base_uri": "https://localhost:8080/"
        },
        "id": "6n97S28ea0sF",
        "outputId": "8fff984b-bdab-48c9-8e0c-1e36fbffd8ab"
      },
      "id": "6n97S28ea0sF",
      "execution_count": 109,
      "outputs": [
        {
          "output_type": "execute_result",
          "data": {
            "text/plain": [
              "(43197, 33454)"
            ]
          },
          "metadata": {},
          "execution_count": 109
        }
      ]
    },
    {
      "cell_type": "code",
      "source": [
        "# downloading the required nltk package\n",
        "import nltk\n",
        "import ssl\n",
        "\n",
        "try:\n",
        "    _create_unverified_https_context = ssl._create_unverified_context\n",
        "except AttributeError:\n",
        "    pass\n",
        "else:\n",
        "    ssl._create_default_https_context = _create_unverified_https_context\n",
        "\n",
        "nltk.download()"
      ],
      "metadata": {
        "colab": {
          "base_uri": "https://localhost:8080/"
        },
        "id": "6X2d6obvA4YT",
        "outputId": "7eb6a2a4-0a97-491b-d705-e702f53c000f"
      },
      "id": "6X2d6obvA4YT",
      "execution_count": 18,
      "outputs": [
        {
          "name": "stdout",
          "output_type": "stream",
          "text": [
            "NLTK Downloader\n",
            "---------------------------------------------------------------------------\n",
            "    d) Download   l) List    u) Update   c) Config   h) Help   q) Quit\n",
            "---------------------------------------------------------------------------\n",
            "Downloader> stopwords\n",
            "Command 'stopwords' unrecognized\n",
            "\n",
            "---------------------------------------------------------------------------\n",
            "    d) Download   l) List    u) Update   c) Config   h) Help   q) Quit\n",
            "---------------------------------------------------------------------------\n",
            "Downloader> d\n",
            "\n",
            "Download which package (l=list; x=cancel)?\n",
            "  Identifier> stopwords\n",
            "    Downloading package stopwords to /root/nltk_data...\n",
            "      Unzipping corpora/stopwords.zip.\n",
            "\n",
            "---------------------------------------------------------------------------\n",
            "    d) Download   l) List    u) Update   c) Config   h) Help   q) Quit\n",
            "---------------------------------------------------------------------------\n",
            "Downloader> q\n"
          ]
        },
        {
          "output_type": "execute_result",
          "data": {
            "text/plain": [
              "True"
            ]
          },
          "metadata": {},
          "execution_count": 18
        }
      ]
    },
    {
      "cell_type": "code",
      "execution_count": 110,
      "id": "5120babe",
      "metadata": {
        "colab": {
          "base_uri": "https://localhost:8080/",
          "height": 660
        },
        "id": "5120babe",
        "outputId": "2e0ee225-95e1-4c03-c98f-36f5f53f71dc"
      },
      "outputs": [
        {
          "output_type": "display_data",
          "data": {
            "text/plain": [
              "<Figure size 1080x720 with 2 Axes>"
            ],
            "image/png": "[encoded data removed]"
          },
          "metadata": {}
        }
      ],
      "source": [
        "# Most common words\n",
        "\n",
        "stop_words = stopwords.words('english')\n",
        "common_words_disaster = []\n",
        "common_words_nondisaster = []\n",
        "\n",
        "# extract the most common words for the two classes\n",
        "for i in disaster:\n",
        "    if i not in stop_words:\n",
        "        common_words_disaster.append(i)\n",
        "        \n",
        "for i in non_disaster:\n",
        "    if i not in stop_words:\n",
        "        common_words_nondisaster.append(i)\n",
        "\n",
        "\n",
        "# Plotting\n",
        "counter_disaster = Counter(common_words_disaster)\n",
        "counter_nondisaster = Counter(common_words_nondisaster)\n",
        "\n",
        "x_disaster, y_disaster = map(list, zip(*counter_disaster.most_common()[:20]))\n",
        "x_nondisaster, y_nondisaster = map(list, zip(*counter_nondisaster.most_common()[:20]))\n",
        "\n",
        "fig, (ax1,ax2) = plt.subplots(ncols=2, figsize=(15,10))\n",
        "\n",
        "sns.barplot(x=y_disaster, y=x_disaster, ax=ax2)\n",
        "ax2.set_title('Disaster')\n",
        "\n",
        "sns.barplot(x=y_nondisaster, y=x_nondisaster, ax=ax1)\n",
        "ax1.set_title('Non disaster')\n",
        "\n",
        "fig.suptitle('Most Common Words')\n",
        "plt.show()"
      ]
    },
    {
      "cell_type": "markdown",
      "id": "db91d59a",
      "metadata": {
        "id": "db91d59a"
      },
      "source": [
        "### 8- Most common stopwords"
      ]
    },
    {
      "cell_type": "code",
      "execution_count": 118,
      "id": "2f710594",
      "metadata": {
        "colab": {
          "base_uri": "https://localhost:8080/",
          "height": 660
        },
        "id": "2f710594",
        "outputId": "61989778-2056-4d2a-c3d8-e158eda4a418"
      },
      "outputs": [
        {
          "output_type": "display_data",
          "data": {
            "text/plain": [
              "<Figure size 1080x720 with 2 Axes>"
            ],
            "image/png": "[encoded data removed]"
          },
          "metadata": {}
        }
      ],
      "source": [
        "# most common stopwords\n",
        "stop_words = stopwords.words('english')\n",
        "stop_words_disaster = []\n",
        "stop_words_nondisaster = []\n",
        "\n",
        "# as previous\n",
        "\n",
        "for i in disaster:\n",
        "    if i in stop_words:\n",
        "        stop_words_disaster.append(i)\n",
        "        \n",
        "for i in non_disaster:\n",
        "    if i in stop_words:\n",
        "        stop_words_nondisaster.append(i)\n",
        "        \n",
        "# plotting\n",
        "counter_disaster = Counter(stop_words_disaster)\n",
        "counter_nondisaster = Counter(stop_words_nondisaster)\n",
        "\n",
        "x_disaster, y_disaster = map(list, zip(*counter_disaster.most_common()[:15]))\n",
        "x_nondisaster, y_nondisaster = map(list, zip(*counter_nondisaster.most_common()[:15]))\n",
        "\n",
        "fig, (ax1,ax2) = plt.subplots(ncols=2, figsize=(15,10))\n",
        "\n",
        "sns.barplot(x=y_disaster, y=x_disaster, ax=ax2)\n",
        "ax2.set_title('Disaster')\n",
        "\n",
        "sns.barplot(x=y_nondisaster, y=x_nondisaster, ax=ax1)\n",
        "ax1.set_title('Non disaster')\n",
        "\n",
        "fig.suptitle('Most Common Words')\n",
        "plt.show()"
      ]
    },
    {
      "cell_type": "markdown",
      "id": "7b1465bc",
      "metadata": {
        "id": "7b1465bc"
      },
      "source": [
        "### Prepare the train and test sets"
      ]
    },
    {
      "cell_type": "code",
      "execution_count": 171,
      "id": "a7aaa0d2",
      "metadata": {
        "id": "a7aaa0d2"
      },
      "outputs": [],
      "source": [
        "train = pd.read_csv('train.csv', sep=',')\n",
        "test = pd.read_csv('test.csv', sep=',')"
      ]
    },
    {
      "cell_type": "code",
      "execution_count": 172,
      "id": "d4fdd1e5",
      "metadata": {
        "id": "d4fdd1e5"
      },
      "outputs": [],
      "source": [
        "train = train.drop(['keyword','location'], axis=1)\n",
        "test = test.drop(['keyword','location'], axis=1)"
      ]
    },
    {
      "cell_type": "code",
      "source": [
        "test.head()"
      ],
      "metadata": {
        "colab": {
          "base_uri": "https://localhost:8080/",
          "height": 206
        },
        "id": "Ny6dmTuSt9DE",
        "outputId": "bfb78f46-f603-4745-8ed6-f9babf54f960"
      },
      "id": "Ny6dmTuSt9DE",
      "execution_count": 200,
      "outputs": [
        {
          "output_type": "execute_result",
          "data": {
            "text/plain": [
              "   id                                               text\n",
              "0   0                 Just happened a terrible car crash\n",
              "1   2  Heard about #earthquake is different cities, s...\n",
              "2   3  there is a forest fire at spot pond, geese are...\n",
              "3   9           Apocalypse lighting. #Spokane #wildfires\n",
              "4  11      Typhoon Soudelor kills 28 in China and Taiwan"
            ],
            "text/html": [
              "\n",
              "  <div id=\"df-6facdb21-590e-499c-8d21-be4e3945c108\">\n",
              "    <div class=\"colab-df-container\">\n",
              "      <div>\n",
              "<style scoped>\n",
              "    .dataframe tbody tr th:only-of-type {\n",
              "        vertical-align: middle;\n",
              "    }\n",
              "\n",
              "    .dataframe tbody tr th {\n",
              "        vertical-align: top;\n",
              "    }\n",
              "\n",
              "    .dataframe thead th {\n",
              "        text-align: right;\n",
              "    }\n",
              "</style>\n",
              "<table border=\"1\" class=\"dataframe\">\n",
              "  <thead>\n",
              "    <tr style=\"text-align: right;\">\n",
              "      <th></th>\n",
              "      <th>id</th>\n",
              "      <th>text</th>\n",
              "    </tr>\n",
              "  </thead>\n",
              "  <tbody>\n",
              "    <tr>\n",
              "      <th>0</th>\n",
              "      <td>0</td>\n",
              "      <td>Just happened a terrible car crash</td>\n",
              "    </tr>\n",
              "    <tr>\n",
              "      <th>1</th>\n",
              "      <td>2</td>\n",
              "      <td>Heard about #earthquake is different cities, s...</td>\n",
              "    </tr>\n",
              "    <tr>\n",
              "      <th>2</th>\n",
              "      <td>3</td>\n",
              "      <td>there is a forest fire at spot pond, geese are...</td>\n",
              "    </tr>\n",
              "    <tr>\n",
              "      <th>3</th>\n",
              "      <td>9</td>\n",
              "      <td>Apocalypse lighting. #Spokane #wildfires</td>\n",
              "    </tr>\n",
              "    <tr>\n",
              "      <th>4</th>\n",
              "      <td>11</td>\n",
              "      <td>Typhoon Soudelor kills 28 in China and Taiwan</td>\n",
              "    </tr>\n",
              "  </tbody>\n",
              "</table>\n",
              "</div>\n",
              "      <button class=\"colab-df-convert\" onclick=\"convertToInteractive('df-6facdb21-590e-499c-8d21-be4e3945c108')\"\n",
              "              title=\"Convert this dataframe to an interactive table.\"\n",
              "              style=\"display:none;\">\n",
              "        \n",
              "  <svg xmlns=\"http://www.w3.org/2000/svg\" height=\"24px\"viewBox=\"0 0 24 24\"\n",
              "       width=\"24px\">\n",
              "    <path d=\"M0 0h24v24H0V0z\" fill=\"none\"/>\n",
              "    <path d=\"M18.56 5.44l.94 2.06.94-2.06 2.06-.94-2.06-.94-.94-2.06-.94 2.06-2.06.94zm-11 1L8.5 8.5l.94-2.06 2.06-.94-2.06-.94L8.5 2.5l-.94 2.06-2.06.94zm10 10l.94 2.06.94-2.06 2.06-.94-2.06-.94-.94-2.06-.94 2.06-2.06.94z\"/><path d=\"M17.41 7.96l-1.37-1.37c-.4-.4-.92-.59-1.43-.59-.52 0-1.04.2-1.43.59L10.3 9.45l-7.72 7.72c-.78.78-.78 2.05 0 2.83L4 21.41c.39.39.9.59 1.41.59.51 0 1.02-.2 1.41-.59l7.78-7.78 2.81-2.81c.8-.78.8-2.07 0-2.86zM5.41 20L4 18.59l7.72-7.72 1.47 1.35L5.41 20z\"/>\n",
              "  </svg>\n",
              "      </button>\n",
              "      \n",
              "  <style>\n",
              "    .colab-df-container {\n",
              "      display:flex;\n",
              "      flex-wrap:wrap;\n",
              "      gap: 12px;\n",
              "    }\n",
              "\n",
              "    .colab-df-convert {\n",
              "      background-color: #E8F0FE;\n",
              "      border: none;\n",
              "      border-radius: 50%;\n",
              "      cursor: pointer;\n",
              "      display: none;\n",
              "      fill: #1967D2;\n",
              "      height: 32px;\n",
              "      padding: 0 0 0 0;\n",
              "      width: 32px;\n",
              "    }\n",
              "\n",
              "    .colab-df-convert:hover {\n",
              "      background-color: #E2EBFA;\n",
              "      box-shadow: 0px 1px 2px rgba(60, 64, 67, 0.3), 0px 1px 3px 1px rgba(60, 64, 67, 0.15);\n",
              "      fill: #174EA6;\n",
              "    }\n",
              "\n",
              "    [theme=dark] .colab-df-convert {\n",
              "      background-color: #3B4455;\n",
              "      fill: #D2E3FC;\n",
              "    }\n",
              "\n",
              "    [theme=dark] .colab-df-convert:hover {\n",
              "      background-color: #434B5C;\n",
              "      box-shadow: 0px 1px 3px 1px rgba(0, 0, 0, 0.15);\n",
              "      filter: drop-shadow(0px 1px 2px rgba(0, 0, 0, 0.3));\n",
              "      fill: #FFFFFF;\n",
              "    }\n",
              "  </style>\n",
              "\n",
              "      <script>\n",
              "        const buttonEl =\n",
              "          document.querySelector('#df-6facdb21-590e-499c-8d21-be4e3945c108 button.colab-df-convert');\n",
              "        buttonEl.style.display =\n",
              "          google.colab.kernel.accessAllowed ? 'block' : 'none';\n",
              "\n",
              "        async function convertToInteractive(key) {\n",
              "          const element = document.querySelector('#df-6facdb21-590e-499c-8d21-be4e3945c108');\n",
              "          const dataTable =\n",
              "            await google.colab.kernel.invokeFunction('convertToInteractive',\n",
              "                                                     [key], {});\n",
              "          if (!dataTable) return;\n",
              "\n",
              "          const docLinkHtml = 'Like what you see? Visit the ' +\n",
              "            '<a target=\"_blank\" href=https://colab.research.google.com/notebooks/data_table.ipynb>data table notebook</a>'\n",
              "            + ' to learn more about interactive tables.';\n",
              "          element.innerHTML = '';\n",
              "          dataTable['output_type'] = 'display_data';\n",
              "          await google.colab.output.renderOutput(dataTable, element);\n",
              "          const docLink = document.createElement('div');\n",
              "          docLink.innerHTML = docLinkHtml;\n",
              "          element.appendChild(docLink);\n",
              "        }\n",
              "      </script>\n",
              "    </div>\n",
              "  </div>\n",
              "  "
            ]
          },
          "metadata": {},
          "execution_count": 200
        }
      ]
    },
    {
      "cell_type": "markdown",
      "source": [
        "    no target values ?"
      ],
      "metadata": {
        "id": "6yoc26cmucz4"
      },
      "id": "6yoc26cmucz4"
    },
    {
      "cell_type": "code",
      "source": [
        "train.head()"
      ],
      "metadata": {
        "colab": {
          "base_uri": "https://localhost:8080/",
          "height": 206
        },
        "id": "27NKsG45otnq",
        "outputId": "492c00d3-8840-44cc-cc7f-7a41963990c0"
      },
      "id": "27NKsG45otnq",
      "execution_count": 173,
      "outputs": [
        {
          "output_type": "execute_result",
          "data": {
            "text/plain": [
              "   id                                               text  target\n",
              "0   1  Our Deeds are the Reason of this #earthquake M...       1\n",
              "1   4             Forest fire near La Ronge Sask. Canada       1\n",
              "2   5  All residents asked to 'shelter in place' are ...       1\n",
              "3   6  13,000 people receive #wildfires evacuation or...       1\n",
              "4   7  Just got sent this photo from Ruby #Alaska as ...       1"
            ],
            "text/html": [
              "\n",
              "  <div id=\"df-29db5275-25db-4a72-b843-9f85f70f7037\">\n",
              "    <div class=\"colab-df-container\">\n",
              "      <div>\n",
              "<style scoped>\n",
              "    .dataframe tbody tr th:only-of-type {\n",
              "        vertical-align: middle;\n",
              "    }\n",
              "\n",
              "    .dataframe tbody tr th {\n",
              "        vertical-align: top;\n",
              "    }\n",
              "\n",
              "    .dataframe thead th {\n",
              "        text-align: right;\n",
              "    }\n",
              "</style>\n",
              "<table border=\"1\" class=\"dataframe\">\n",
              "  <thead>\n",
              "    <tr style=\"text-align: right;\">\n",
              "      <th></th>\n",
              "      <th>id</th>\n",
              "      <th>text</th>\n",
              "      <th>target</th>\n",
              "    </tr>\n",
              "  </thead>\n",
              "  <tbody>\n",
              "    <tr>\n",
              "      <th>0</th>\n",
              "      <td>1</td>\n",
              "      <td>Our Deeds are the Reason of this #earthquake M...</td>\n",
              "      <td>1</td>\n",
              "    </tr>\n",
              "    <tr>\n",
              "      <th>1</th>\n",
              "      <td>4</td>\n",
              "      <td>Forest fire near La Ronge Sask. Canada</td>\n",
              "      <td>1</td>\n",
              "    </tr>\n",
              "    <tr>\n",
              "      <th>2</th>\n",
              "      <td>5</td>\n",
              "      <td>All residents asked to 'shelter in place' are ...</td>\n",
              "      <td>1</td>\n",
              "    </tr>\n",
              "    <tr>\n",
              "      <th>3</th>\n",
              "      <td>6</td>\n",
              "      <td>13,000 people receive #wildfires evacuation or...</td>\n",
              "      <td>1</td>\n",
              "    </tr>\n",
              "    <tr>\n",
              "      <th>4</th>\n",
              "      <td>7</td>\n",
              "      <td>Just got sent this photo from Ruby #Alaska as ...</td>\n",
              "      <td>1</td>\n",
              "    </tr>\n",
              "  </tbody>\n",
              "</table>\n",
              "</div>\n",
              "      <button class=\"colab-df-convert\" onclick=\"convertToInteractive('df-29db5275-25db-4a72-b843-9f85f70f7037')\"\n",
              "              title=\"Convert this dataframe to an interactive table.\"\n",
              "              style=\"display:none;\">\n",
              "        \n",
              "  <svg xmlns=\"http://www.w3.org/2000/svg\" height=\"24px\"viewBox=\"0 0 24 24\"\n",
              "       width=\"24px\">\n",
              "    <path d=\"M0 0h24v24H0V0z\" fill=\"none\"/>\n",
              "    <path d=\"M18.56 5.44l.94 2.06.94-2.06 2.06-.94-2.06-.94-.94-2.06-.94 2.06-2.06.94zm-11 1L8.5 8.5l.94-2.06 2.06-.94-2.06-.94L8.5 2.5l-.94 2.06-2.06.94zm10 10l.94 2.06.94-2.06 2.06-.94-2.06-.94-.94-2.06-.94 2.06-2.06.94z\"/><path d=\"M17.41 7.96l-1.37-1.37c-.4-.4-.92-.59-1.43-.59-.52 0-1.04.2-1.43.59L10.3 9.45l-7.72 7.72c-.78.78-.78 2.05 0 2.83L4 21.41c.39.39.9.59 1.41.59.51 0 1.02-.2 1.41-.59l7.78-7.78 2.81-2.81c.8-.78.8-2.07 0-2.86zM5.41 20L4 18.59l7.72-7.72 1.47 1.35L5.41 20z\"/>\n",
              "  </svg>\n",
              "      </button>\n",
              "      \n",
              "  <style>\n",
              "    .colab-df-container {\n",
              "      display:flex;\n",
              "      flex-wrap:wrap;\n",
              "      gap: 12px;\n",
              "    }\n",
              "\n",
              "    .colab-df-convert {\n",
              "      background-color: #E8F0FE;\n",
              "      border: none;\n",
              "      border-radius: 50%;\n",
              "      cursor: pointer;\n",
              "      display: none;\n",
              "      fill: #1967D2;\n",
              "      height: 32px;\n",
              "      padding: 0 0 0 0;\n",
              "      width: 32px;\n",
              "    }\n",
              "\n",
              "    .colab-df-convert:hover {\n",
              "      background-color: #E2EBFA;\n",
              "      box-shadow: 0px 1px 2px rgba(60, 64, 67, 0.3), 0px 1px 3px 1px rgba(60, 64, 67, 0.15);\n",
              "      fill: #174EA6;\n",
              "    }\n",
              "\n",
              "    [theme=dark] .colab-df-convert {\n",
              "      background-color: #3B4455;\n",
              "      fill: #D2E3FC;\n",
              "    }\n",
              "\n",
              "    [theme=dark] .colab-df-convert:hover {\n",
              "      background-color: #434B5C;\n",
              "      box-shadow: 0px 1px 3px 1px rgba(0, 0, 0, 0.15);\n",
              "      filter: drop-shadow(0px 1px 2px rgba(0, 0, 0, 0.3));\n",
              "      fill: #FFFFFF;\n",
              "    }\n",
              "  </style>\n",
              "\n",
              "      <script>\n",
              "        const buttonEl =\n",
              "          document.querySelector('#df-29db5275-25db-4a72-b843-9f85f70f7037 button.colab-df-convert');\n",
              "        buttonEl.style.display =\n",
              "          google.colab.kernel.accessAllowed ? 'block' : 'none';\n",
              "\n",
              "        async function convertToInteractive(key) {\n",
              "          const element = document.querySelector('#df-29db5275-25db-4a72-b843-9f85f70f7037');\n",
              "          const dataTable =\n",
              "            await google.colab.kernel.invokeFunction('convertToInteractive',\n",
              "                                                     [key], {});\n",
              "          if (!dataTable) return;\n",
              "\n",
              "          const docLinkHtml = 'Like what you see? Visit the ' +\n",
              "            '<a target=\"_blank\" href=https://colab.research.google.com/notebooks/data_table.ipynb>data table notebook</a>'\n",
              "            + ' to learn more about interactive tables.';\n",
              "          element.innerHTML = '';\n",
              "          dataTable['output_type'] = 'display_data';\n",
              "          await google.colab.output.renderOutput(dataTable, element);\n",
              "          const docLink = document.createElement('div');\n",
              "          docLink.innerHTML = docLinkHtml;\n",
              "          element.appendChild(docLink);\n",
              "        }\n",
              "      </script>\n",
              "    </div>\n",
              "  </div>\n",
              "  "
            ]
          },
          "metadata": {},
          "execution_count": 173
        }
      ]
    },
    {
      "cell_type": "code",
      "source": [
        "train.isnull().sum()"
      ],
      "metadata": {
        "colab": {
          "base_uri": "https://localhost:8080/"
        },
        "id": "KAO_CqrPsi9u",
        "outputId": "ab77580b-7add-4d75-ccbd-627094079394"
      },
      "id": "KAO_CqrPsi9u",
      "execution_count": 174,
      "outputs": [
        {
          "output_type": "execute_result",
          "data": {
            "text/plain": [
              "id        0\n",
              "text      0\n",
              "target    0\n",
              "dtype: int64"
            ]
          },
          "metadata": {},
          "execution_count": 174
        }
      ]
    },
    {
      "cell_type": "code",
      "execution_count": 175,
      "id": "410c3ec1",
      "metadata": {
        "id": "410c3ec1"
      },
      "outputs": [],
      "source": [
        "# we need to sort values\n",
        "X_train = train.sort_values(by= ['id'], ascending=True)\n",
        "X_test = test.sort_values(by= ['id'], ascending=True)"
      ]
    },
    {
      "cell_type": "code",
      "source": [
        "X_train.head()"
      ],
      "metadata": {
        "colab": {
          "base_uri": "https://localhost:8080/",
          "height": 206
        },
        "id": "iEdZbvpAos2D",
        "outputId": "47c856a3-0f03-4a53-f2b4-8fa5035b60dc"
      },
      "id": "iEdZbvpAos2D",
      "execution_count": 176,
      "outputs": [
        {
          "output_type": "execute_result",
          "data": {
            "text/plain": [
              "   id                                               text  target\n",
              "0   1  Our Deeds are the Reason of this #earthquake M...       1\n",
              "1   4             Forest fire near La Ronge Sask. Canada       1\n",
              "2   5  All residents asked to 'shelter in place' are ...       1\n",
              "3   6  13,000 people receive #wildfires evacuation or...       1\n",
              "4   7  Just got sent this photo from Ruby #Alaska as ...       1"
            ],
            "text/html": [
              "\n",
              "  <div id=\"df-bb3811f7-27eb-4e6a-8fa0-49cacf8f8b14\">\n",
              "    <div class=\"colab-df-container\">\n",
              "      <div>\n",
              "<style scoped>\n",
              "    .dataframe tbody tr th:only-of-type {\n",
              "        vertical-align: middle;\n",
              "    }\n",
              "\n",
              "    .dataframe tbody tr th {\n",
              "        vertical-align: top;\n",
              "    }\n",
              "\n",
              "    .dataframe thead th {\n",
              "        text-align: right;\n",
              "    }\n",
              "</style>\n",
              "<table border=\"1\" class=\"dataframe\">\n",
              "  <thead>\n",
              "    <tr style=\"text-align: right;\">\n",
              "      <th></th>\n",
              "      <th>id</th>\n",
              "      <th>text</th>\n",
              "      <th>target</th>\n",
              "    </tr>\n",
              "  </thead>\n",
              "  <tbody>\n",
              "    <tr>\n",
              "      <th>0</th>\n",
              "      <td>1</td>\n",
              "      <td>Our Deeds are the Reason of this #earthquake M...</td>\n",
              "      <td>1</td>\n",
              "    </tr>\n",
              "    <tr>\n",
              "      <th>1</th>\n",
              "      <td>4</td>\n",
              "      <td>Forest fire near La Ronge Sask. Canada</td>\n",
              "      <td>1</td>\n",
              "    </tr>\n",
              "    <tr>\n",
              "      <th>2</th>\n",
              "      <td>5</td>\n",
              "      <td>All residents asked to 'shelter in place' are ...</td>\n",
              "      <td>1</td>\n",
              "    </tr>\n",
              "    <tr>\n",
              "      <th>3</th>\n",
              "      <td>6</td>\n",
              "      <td>13,000 people receive #wildfires evacuation or...</td>\n",
              "      <td>1</td>\n",
              "    </tr>\n",
              "    <tr>\n",
              "      <th>4</th>\n",
              "      <td>7</td>\n",
              "      <td>Just got sent this photo from Ruby #Alaska as ...</td>\n",
              "      <td>1</td>\n",
              "    </tr>\n",
              "  </tbody>\n",
              "</table>\n",
              "</div>\n",
              "      <button class=\"colab-df-convert\" onclick=\"convertToInteractive('df-bb3811f7-27eb-4e6a-8fa0-49cacf8f8b14')\"\n",
              "              title=\"Convert this dataframe to an interactive table.\"\n",
              "              style=\"display:none;\">\n",
              "        \n",
              "  <svg xmlns=\"http://www.w3.org/2000/svg\" height=\"24px\"viewBox=\"0 0 24 24\"\n",
              "       width=\"24px\">\n",
              "    <path d=\"M0 0h24v24H0V0z\" fill=\"none\"/>\n",
              "    <path d=\"M18.56 5.44l.94 2.06.94-2.06 2.06-.94-2.06-.94-.94-2.06-.94 2.06-2.06.94zm-11 1L8.5 8.5l.94-2.06 2.06-.94-2.06-.94L8.5 2.5l-.94 2.06-2.06.94zm10 10l.94 2.06.94-2.06 2.06-.94-2.06-.94-.94-2.06-.94 2.06-2.06.94z\"/><path d=\"M17.41 7.96l-1.37-1.37c-.4-.4-.92-.59-1.43-.59-.52 0-1.04.2-1.43.59L10.3 9.45l-7.72 7.72c-.78.78-.78 2.05 0 2.83L4 21.41c.39.39.9.59 1.41.59.51 0 1.02-.2 1.41-.59l7.78-7.78 2.81-2.81c.8-.78.8-2.07 0-2.86zM5.41 20L4 18.59l7.72-7.72 1.47 1.35L5.41 20z\"/>\n",
              "  </svg>\n",
              "      </button>\n",
              "      \n",
              "  <style>\n",
              "    .colab-df-container {\n",
              "      display:flex;\n",
              "      flex-wrap:wrap;\n",
              "      gap: 12px;\n",
              "    }\n",
              "\n",
              "    .colab-df-convert {\n",
              "      background-color: #E8F0FE;\n",
              "      border: none;\n",
              "      border-radius: 50%;\n",
              "      cursor: pointer;\n",
              "      display: none;\n",
              "      fill: #1967D2;\n",
              "      height: 32px;\n",
              "      padding: 0 0 0 0;\n",
              "      width: 32px;\n",
              "    }\n",
              "\n",
              "    .colab-df-convert:hover {\n",
              "      background-color: #E2EBFA;\n",
              "      box-shadow: 0px 1px 2px rgba(60, 64, 67, 0.3), 0px 1px 3px 1px rgba(60, 64, 67, 0.15);\n",
              "      fill: #174EA6;\n",
              "    }\n",
              "\n",
              "    [theme=dark] .colab-df-convert {\n",
              "      background-color: #3B4455;\n",
              "      fill: #D2E3FC;\n",
              "    }\n",
              "\n",
              "    [theme=dark] .colab-df-convert:hover {\n",
              "      background-color: #434B5C;\n",
              "      box-shadow: 0px 1px 3px 1px rgba(0, 0, 0, 0.15);\n",
              "      filter: drop-shadow(0px 1px 2px rgba(0, 0, 0, 0.3));\n",
              "      fill: #FFFFFF;\n",
              "    }\n",
              "  </style>\n",
              "\n",
              "      <script>\n",
              "        const buttonEl =\n",
              "          document.querySelector('#df-bb3811f7-27eb-4e6a-8fa0-49cacf8f8b14 button.colab-df-convert');\n",
              "        buttonEl.style.display =\n",
              "          google.colab.kernel.accessAllowed ? 'block' : 'none';\n",
              "\n",
              "        async function convertToInteractive(key) {\n",
              "          const element = document.querySelector('#df-bb3811f7-27eb-4e6a-8fa0-49cacf8f8b14');\n",
              "          const dataTable =\n",
              "            await google.colab.kernel.invokeFunction('convertToInteractive',\n",
              "                                                     [key], {});\n",
              "          if (!dataTable) return;\n",
              "\n",
              "          const docLinkHtml = 'Like what you see? Visit the ' +\n",
              "            '<a target=\"_blank\" href=https://colab.research.google.com/notebooks/data_table.ipynb>data table notebook</a>'\n",
              "            + ' to learn more about interactive tables.';\n",
              "          element.innerHTML = '';\n",
              "          dataTable['output_type'] = 'display_data';\n",
              "          await google.colab.output.renderOutput(dataTable, element);\n",
              "          const docLink = document.createElement('div');\n",
              "          docLink.innerHTML = docLinkHtml;\n",
              "          element.appendChild(docLink);\n",
              "        }\n",
              "      </script>\n",
              "    </div>\n",
              "  </div>\n",
              "  "
            ]
          },
          "metadata": {},
          "execution_count": 176
        }
      ]
    },
    {
      "cell_type": "code",
      "execution_count": 177,
      "id": "7aa469d4",
      "metadata": {
        "id": "7aa469d4"
      },
      "outputs": [],
      "source": [
        "# convert text to array\n",
        "\n",
        "X_train = X_train.loc[:,X_train.columns=='text'].values.flatten()\n",
        "\n",
        "X_test = X_test.loc[:,X_test.columns=='text'].values.flatten()"
      ]
    },
    {
      "cell_type": "code",
      "execution_count": 179,
      "id": "fee554e6",
      "metadata": {
        "colab": {
          "base_uri": "https://localhost:8080/"
        },
        "id": "fee554e6",
        "outputId": "38dbb8af-e9cb-4a0e-d31f-ca52961feb9c"
      },
      "outputs": [
        {
          "output_type": "stream",
          "name": "stdout",
          "text": [
            "['Our Deeds are the Reason of this #earthquake May ALLAH Forgive us all'\n",
            " 'Forest fire near La Ronge Sask. Canada']\n"
          ]
        }
      ],
      "source": [
        "print(X_train[:2])"
      ]
    },
    {
      "cell_type": "markdown",
      "id": "f8d89818",
      "metadata": {
        "id": "f8d89818"
      },
      "source": [
        "### Tokenize the data"
      ]
    },
    {
      "cell_type": "code",
      "execution_count": 312,
      "id": "548218e0",
      "metadata": {
        "id": "548218e0"
      },
      "outputs": [],
      "source": [
        "import tensorflow as tf\n",
        "import tensorflow.keras as keras \n",
        "from tensorflow.keras.preprocessing.text import Tokenizer\n",
        "from tensorflow.keras.models import Sequential\n",
        "from tensorflow.keras.layers import Embedding, LSTM, Dense, Dropout, BatchNormalization, Bidirectional, TimeDistributed"
      ]
    },
    {
      "cell_type": "code",
      "execution_count": 181,
      "id": "8352c07b",
      "metadata": {
        "id": "8352c07b"
      },
      "outputs": [],
      "source": [
        "tokenizer = Tokenizer()\n",
        "def preprocess_text(text):\n",
        "    '''\n",
        "    preprocess the text \n",
        "    '''\n",
        "    sequences = tokenizer.fit_on_texts(text)\n",
        "    return sequences"
      ]
    },
    {
      "cell_type": "code",
      "execution_count": 182,
      "id": "f89904ca",
      "metadata": {
        "id": "f89904ca"
      },
      "outputs": [],
      "source": [
        "tokens = preprocess_text(X_train)"
      ]
    },
    {
      "cell_type": "code",
      "source": [
        "tokens"
      ],
      "metadata": {
        "id": "2VcI9zvop_6G"
      },
      "id": "2VcI9zvop_6G",
      "execution_count": 183,
      "outputs": []
    },
    {
      "cell_type": "markdown",
      "id": "2e8595df",
      "metadata": {
        "id": "2e8595df"
      },
      "source": [
        "### Convert text to sequences"
      ]
    },
    {
      "cell_type": "code",
      "execution_count": 184,
      "id": "2196523e",
      "metadata": {
        "id": "2196523e"
      },
      "outputs": [],
      "source": [
        "#text to sequences\n",
        "X_train = tokenizer.texts_to_sequences(X_train)\n",
        "X_test = tokenizer.texts_to_sequences(X_test)"
      ]
    },
    {
      "cell_type": "code",
      "source": [
        "X_train[0]"
      ],
      "metadata": {
        "colab": {
          "base_uri": "https://localhost:8080/"
        },
        "id": "pzK7RZcyqPDs",
        "outputId": "193dd6c9-f43e-4060-a0d9-d69532a67292"
      },
      "id": "pzK7RZcyqPDs",
      "execution_count": 185,
      "outputs": [
        {
          "output_type": "execute_result",
          "data": {
            "text/plain": [
              "[119, 4633, 24, 4, 868, 8, 21, 263, 138, 1619, 4634, 89, 40]"
            ]
          },
          "metadata": {},
          "execution_count": 185
        }
      ]
    },
    {
      "cell_type": "code",
      "execution_count": 186,
      "id": "79e39d13",
      "metadata": {
        "id": "79e39d13"
      },
      "outputs": [],
      "source": [
        "# padding sequences\n",
        "\n",
        "X_train = np.array(X_train, dtype=object)\n",
        "X_test = np.array(X_test, dtype=object)\n",
        "X_train = keras.preprocessing.sequence.pad_sequences(X_train)\n",
        "X_test = keras.preprocessing.sequence.pad_sequences(X_test)"
      ]
    },
    {
      "cell_type": "code",
      "execution_count": 187,
      "id": "2fcd8f85",
      "metadata": {
        "colab": {
          "base_uri": "https://localhost:8080/"
        },
        "id": "2fcd8f85",
        "outputId": "f5796974-b177-4e76-a438-620dca29bd16"
      },
      "outputs": [
        {
          "output_type": "stream",
          "name": "stdout",
          "text": [
            "[   0    0    0    0    0    0    0    0    0    0    0    0    0    0\n",
            "    0    0    0    0    0    0  119 4633   24    4  868    8   21  263\n",
            "  138 1619 4634   89   40]\n"
          ]
        }
      ],
      "source": [
        "# after padding\n",
        "print(X_train[0])"
      ]
    },
    {
      "cell_type": "code",
      "execution_count": 188,
      "id": "de2a2a50",
      "metadata": {
        "colab": {
          "base_uri": "https://localhost:8080/"
        },
        "id": "de2a2a50",
        "outputId": "5802c7fb-0979-4b51-a173-d79286993196"
      },
      "outputs": [
        {
          "output_type": "stream",
          "name": "stdout",
          "text": [
            "Size of the vocabularies: 22700\n"
          ]
        }
      ],
      "source": [
        "# checking the size of the vocabularies\n",
        "\n",
        "vocab_size = len(tokenizer.word_index)\n",
        "print(f'Size of the vocabularies: {vocab_size}')"
      ]
    },
    {
      "cell_type": "markdown",
      "id": "4ee6fd70",
      "metadata": {
        "id": "4ee6fd70"
      },
      "source": [
        "### Getting the Testset ready"
      ]
    },
    {
      "cell_type": "code",
      "execution_count": 189,
      "id": "98e7e276",
      "metadata": {
        "id": "98e7e276"
      },
      "outputs": [],
      "source": [
        "# labels \n",
        "y_train = train.target.values"
      ]
    },
    {
      "cell_type": "code",
      "execution_count": 190,
      "id": "90c3cb95",
      "metadata": {
        "colab": {
          "base_uri": "https://localhost:8080/"
        },
        "id": "90c3cb95",
        "outputId": "65fcc51e-b5e9-4cc7-c852-19291cd09f7b"
      },
      "outputs": [
        {
          "output_type": "stream",
          "name": "stdout",
          "text": [
            "1\n"
          ]
        }
      ],
      "source": [
        "# 1 for true disaster and 0 otherwise\n",
        "print(y_train[0])"
      ]
    },
    {
      "cell_type": "markdown",
      "id": "8bbbbf32",
      "metadata": {
        "id": "8bbbbf32"
      },
      "source": [
        "### Split the data"
      ]
    },
    {
      "cell_type": "code",
      "execution_count": 191,
      "id": "88778168",
      "metadata": {
        "id": "88778168"
      },
      "outputs": [],
      "source": [
        "from sklearn.model_selection import train_test_split\n",
        "X_train, X_val, y_train, y_val = train_test_split(X_train, y_train, test_size=0.2, random_state=42, stratify=y_train)"
      ]
    },
    {
      "cell_type": "markdown",
      "id": "be12a018",
      "metadata": {
        "id": "be12a018"
      },
      "source": [
        "### Structure of LSTM model"
      ]
    },
    {
      "cell_type": "markdown",
      "id": "52999f43",
      "metadata": {
        "id": "52999f43"
      },
      "source": [
        "### Train the model"
      ]
    },
    {
      "cell_type": "code",
      "source": [
        "# class weights\n",
        "total = 0\n",
        "class_weights = []\n",
        "for i in train['target'].value_counts():\n",
        "    total += i\n",
        "class_weights = [1 - (i/total) for i in train['target'].value_counts()]"
      ],
      "metadata": {
        "id": "98UwyOuQ2GTM"
      },
      "execution_count": 193,
      "outputs": [],
      "id": "98UwyOuQ2GTM"
    },
    {
      "cell_type": "code",
      "source": [
        "class_weights"
      ],
      "metadata": {
        "colab": {
          "base_uri": "https://localhost:8080/"
        },
        "id": "67kRGx-i3UtK",
        "outputId": "f6afad83-1d71-4a0a-b6cf-28779971bc0c"
      },
      "execution_count": 194,
      "outputs": [
        {
          "output_type": "execute_result",
          "data": {
            "text/plain": [
              "[0.4296597924602653, 0.5703402075397347]"
            ]
          },
          "metadata": {},
          "execution_count": 194
        }
      ],
      "id": "67kRGx-i3UtK"
    },
    {
      "cell_type": "code",
      "source": [
        "class_weightss= {1:class_weights[0], 0:class_weights[1]}"
      ],
      "metadata": {
        "id": "ErBlbn7x4ijd"
      },
      "execution_count": 195,
      "outputs": [],
      "id": "ErBlbn7x4ijd"
    },
    {
      "cell_type": "code",
      "source": [
        "X_train.shape"
      ],
      "metadata": {
        "colab": {
          "base_uri": "https://localhost:8080/"
        },
        "id": "Zki64Qj_tL2H",
        "outputId": "ffab5a08-02af-4393-cdca-2a9d9d7a54a6"
      },
      "id": "Zki64Qj_tL2H",
      "execution_count": 196,
      "outputs": [
        {
          "output_type": "execute_result",
          "data": {
            "text/plain": [
              "(6090, 33)"
            ]
          },
          "metadata": {},
          "execution_count": 196
        }
      ]
    },
    {
      "cell_type": "code",
      "execution_count": 330,
      "id": "c3ca9b98",
      "metadata": {
        "id": "c3ca9b98"
      },
      "outputs": [],
      "source": [
        "#create the model\n",
        "model = Sequential()\n",
        "model.add(Embedding(input_dim = vocab_size+2, output_dim = 32, name='Embedding'))\n",
        "model.add(LSTM(128, activation = 'relu'))\n",
        "model.add(Dropout(0.3))\n",
        "model.add(BatchNormalization())\n",
        "model.add(Dense(64, activation = 'relu'))\n",
        "model.add(Dropout(0.3))\n",
        "model.add(BatchNormalization())\n",
        "\n",
        "\n",
        "\n",
        "model.add(Dense(1, activation='sigmoid'))\n",
        "model.compile(optimizer='adam', loss=\"binary_crossentropy\", metrics=[\"accuracy\"])\n",
        "# model.summary()"
      ]
    },
    {
      "cell_type": "code",
      "execution_count": 331,
      "id": "66eff6b7",
      "metadata": {
        "colab": {
          "base_uri": "https://localhost:8080/"
        },
        "id": "66eff6b7",
        "outputId": "413e437c-09c8-4b37-ce93-a2b818ce0eaa"
      },
      "outputs": [
        {
          "output_type": "stream",
          "name": "stdout",
          "text": [
            "WARNING:tensorflow:`period` argument is deprecated. Please use `save_freq` to specify the frequency in number of batches seen.\n",
            "Epoch 1/50\n",
            "95/95 [==============================] - ETA: 0s - loss: 0.3665 - accuracy: 0.5946\n",
            "Epoch 1: val_loss improved from inf to 0.68969, saving model to /content/drive/MyDrive/Amit_grad_proj/Lstm_final_proj.h5\n",
            "95/95 [==============================] - 11s 91ms/step - loss: 0.3665 - accuracy: 0.5946 - val_loss: 0.6897 - val_accuracy: 0.5706 - lr: 0.0010\n",
            "Epoch 2/50\n",
            "95/95 [==============================] - ETA: 0s - loss: 0.2053 - accuracy: 0.8163\n",
            "Epoch 2: val_loss improved from 0.68969 to 0.66794, saving model to /content/drive/MyDrive/Amit_grad_proj/Lstm_final_proj.h5\n",
            "95/95 [==============================] - 9s 91ms/step - loss: 0.2053 - accuracy: 0.8163 - val_loss: 0.6679 - val_accuracy: 0.5706 - lr: 0.0010\n",
            "Epoch 3/50\n",
            "95/95 [==============================] - ETA: 0s - loss: 0.0947 - accuracy: 0.9275\n",
            "Epoch 3: val_loss improved from 0.66794 to 0.57601, saving model to /content/drive/MyDrive/Amit_grad_proj/Lstm_final_proj.h5\n",
            "95/95 [==============================] - 9s 93ms/step - loss: 0.0947 - accuracy: 0.9275 - val_loss: 0.5760 - val_accuracy: 0.7367 - lr: 0.0010\n",
            "Epoch 4/50\n",
            "95/95 [==============================] - ETA: 0s - loss: 0.0552 - accuracy: 0.9597\n",
            "Epoch 4: val_loss improved from 0.57601 to 0.52389, saving model to /content/drive/MyDrive/Amit_grad_proj/Lstm_final_proj.h5\n",
            "95/95 [==============================] - 8s 87ms/step - loss: 0.0552 - accuracy: 0.9597 - val_loss: 0.5239 - val_accuracy: 0.7663 - lr: 0.0010\n",
            "Epoch 5/50\n",
            "95/95 [==============================] - ETA: 0s - loss: 0.0363 - accuracy: 0.9768\n",
            "Epoch 5: val_loss improved from 0.52389 to 0.48999, saving model to /content/drive/MyDrive/Amit_grad_proj/Lstm_final_proj.h5\n",
            "95/95 [==============================] - 8s 86ms/step - loss: 0.0363 - accuracy: 0.9768 - val_loss: 0.4900 - val_accuracy: 0.7859 - lr: 0.0010\n",
            "Epoch 6/50\n",
            "95/95 [==============================] - ETA: 0s - loss: 0.0219 - accuracy: 0.9867\n",
            "Epoch 6: val_loss did not improve from 0.48999\n",
            "95/95 [==============================] - 8s 87ms/step - loss: 0.0219 - accuracy: 0.9867 - val_loss: 0.5535 - val_accuracy: 0.7794 - lr: 0.0010\n",
            "Epoch 7/50\n",
            "95/95 [==============================] - ETA: 0s - loss: 0.0183 - accuracy: 0.9897\n",
            "Epoch 7: val_loss did not improve from 0.48999\n",
            "95/95 [==============================] - 8s 86ms/step - loss: 0.0183 - accuracy: 0.9897 - val_loss: 0.6731 - val_accuracy: 0.7787 - lr: 0.0010\n",
            "Epoch 8/50\n",
            "95/95 [==============================] - ETA: 0s - loss: 0.0169 - accuracy: 0.9909\n",
            "Epoch 8: ReduceLROnPlateau reducing learning rate to 0.0005000000237487257.\n",
            "\n",
            "Epoch 8: val_loss did not improve from 0.48999\n",
            "95/95 [==============================] - 8s 87ms/step - loss: 0.0169 - accuracy: 0.9909 - val_loss: 0.8269 - val_accuracy: 0.7538 - lr: 0.0010\n",
            "Epoch 9/50\n",
            "95/95 [==============================] - ETA: 0s - loss: 0.0120 - accuracy: 0.9932\n",
            "Epoch 9: val_loss did not improve from 0.48999\n",
            "95/95 [==============================] - 8s 87ms/step - loss: 0.0120 - accuracy: 0.9932 - val_loss: 0.9277 - val_accuracy: 0.7833 - lr: 5.0000e-04\n",
            "Epoch 10/50\n",
            "95/95 [==============================] - ETA: 0s - loss: 0.0092 - accuracy: 0.9949\n",
            "Epoch 10: val_loss did not improve from 0.48999\n",
            "95/95 [==============================] - 8s 86ms/step - loss: 0.0092 - accuracy: 0.9949 - val_loss: 0.9593 - val_accuracy: 0.7879 - lr: 5.0000e-04\n",
            "Epoch 11/50\n",
            "95/95 [==============================] - ETA: 0s - loss: 0.0082 - accuracy: 0.9952\n",
            "Epoch 11: val_loss did not improve from 0.48999\n",
            "95/95 [==============================] - 8s 86ms/step - loss: 0.0082 - accuracy: 0.9952 - val_loss: 1.0303 - val_accuracy: 0.7544 - lr: 5.0000e-04\n",
            "Epoch 12/50\n",
            "95/95 [==============================] - ETA: 0s - loss: 0.0073 - accuracy: 0.9954\n",
            "Epoch 12: val_loss did not improve from 0.48999\n",
            "95/95 [==============================] - 8s 85ms/step - loss: 0.0073 - accuracy: 0.9954 - val_loss: 1.0745 - val_accuracy: 0.7538 - lr: 5.0000e-04\n",
            "Epoch 13/50\n",
            "95/95 [==============================] - ETA: 0s - loss: 0.0071 - accuracy: 0.9955\n",
            "Epoch 13: ReduceLROnPlateau reducing learning rate to 0.0002500000118743628.\n",
            "\n",
            "Epoch 13: val_loss did not improve from 0.48999\n",
            "95/95 [==============================] - 8s 87ms/step - loss: 0.0071 - accuracy: 0.9955 - val_loss: 1.0752 - val_accuracy: 0.7597 - lr: 5.0000e-04\n",
            "Epoch 14/50\n",
            "95/95 [==============================] - ETA: 0s - loss: 0.0065 - accuracy: 0.9965\n",
            "Epoch 14: val_loss did not improve from 0.48999\n",
            "95/95 [==============================] - 8s 85ms/step - loss: 0.0065 - accuracy: 0.9965 - val_loss: 1.0882 - val_accuracy: 0.7617 - lr: 2.5000e-04\n",
            "Epoch 15/50\n",
            "95/95 [==============================] - ETA: 0s - loss: 0.0059 - accuracy: 0.9962\n",
            "Epoch 15: val_loss did not improve from 0.48999\n",
            "95/95 [==============================] - 11s 120ms/step - loss: 0.0059 - accuracy: 0.9962 - val_loss: 1.0937 - val_accuracy: 0.7617 - lr: 2.5000e-04\n",
            "Epoch 15: early stopping\n"
          ]
        },
        {
          "output_type": "execute_result",
          "data": {
            "text/plain": [
              "<keras.callbacks.History at 0x7ffa3d843bd0>"
            ]
          },
          "metadata": {},
          "execution_count": 331
        }
      ],
      "source": [
        "from keras.callbacks import ModelCheckpoint, EarlyStopping, CSVLogger, ReduceLROnPlateau\n",
        "\n",
        "bs = 64\n",
        "\n",
        "#Fitting the LSTM to the training set\n",
        "model.fit(\n",
        "    X_train,\n",
        "    y_train,\n",
        "    class_weight = class_weightss,\n",
        "    validation_data=(X_val, y_val),  \n",
        "    steps_per_epoch=X_train.shape[0] // bs, \n",
        "    batch_size = bs,\n",
        "    epochs = 50,\n",
        "    callbacks=[ReduceLROnPlateau(monitor='val_accuracy',factor=0.5, verbose=1, patience=3,min_lr=0.00001),\n",
        "                                      ModelCheckpoint(\"/content/drive/MyDrive/Amit_grad_proj/Lstm_final_proj.h5\", monitor='val_loss', verbose=1, save_best_only=True, save_weights_only=False, mode='auto', period=1),\n",
        "                                      EarlyStopping(monitor='val_accuracy', min_delta=0, patience=5, verbose=1, mode='auto'),\n",
        "                                      CSVLogger('/content/drive/MyDrive/Amit_grad_proj/Lstm_final_proj.csv')]\n",
        "                              )"
      ]
    },
    {
      "cell_type": "markdown",
      "id": "8f959c3b",
      "metadata": {
        "id": "8f959c3b"
      },
      "source": [
        "### Evaluate the model"
      ]
    },
    {
      "cell_type": "code",
      "source": [
        "from keras.models import load_model\n",
        "\n",
        "model = load_model(\"/content/drive/MyDrive/Amit_grad_proj/Lstm_final_proj.h5\", compile=False)\n",
        "model.compile(optimizer = 'adam', loss = 'binary_crossentropy', metrics = ['accuracy'])\n",
        "\n"
      ],
      "metadata": {
        "id": "e7gFDI6JtvfA"
      },
      "id": "e7gFDI6JtvfA",
      "execution_count": 335,
      "outputs": []
    },
    {
      "cell_type": "code",
      "source": [
        "# evaluation\n",
        "# loss, accuracy = model.evaluate(X_test, y_test, verbose=1)\n",
        "loss_v, accuracy_v = model.evaluate(X_val, y_val, verbose=1)\n",
        "loss_t, accuracy_t = model.evaluate(X_train, y_train, verbose=1)\n",
        "print(\"ANN Model\")\n",
        "print(\"Train: accuracy = %f  -  loss = %f\" % (accuracy_t, loss_t))\n",
        "print(\"Validation: accuracy = %f  -  loss = %f\" % (accuracy_v, loss_v))\n",
        "# print(\"Test: accuracy = %f  -  loss = %f\" % (accuracy, loss))\n"
      ],
      "metadata": {
        "colab": {
          "base_uri": "https://localhost:8080/"
        },
        "id": "FuTXJtK-t0lf",
        "outputId": "f1cb3701-495f-4e7d-cff2-01eb27a655a6"
      },
      "id": "FuTXJtK-t0lf",
      "execution_count": 336,
      "outputs": [
        {
          "output_type": "stream",
          "name": "stdout",
          "text": [
            "48/48 [==============================] - 1s 14ms/step - loss: 0.4900 - accuracy: 0.7859\n",
            "191/191 [==============================] - 3s 14ms/step - loss: 0.1386 - accuracy: 0.9828\n",
            "ANN Model\n",
            "Train: accuracy = 0.982759  -  loss = 0.138626\n",
            "Validation: accuracy = 0.785949  -  loss = 0.489993\n"
          ]
        }
      ]
    },
    {
      "cell_type": "markdown",
      "id": "a901b373",
      "metadata": {
        "id": "a901b373"
      },
      "source": [
        "### Making predictions"
      ]
    },
    {
      "cell_type": "code",
      "execution_count": 337,
      "id": "9b3b8f81",
      "metadata": {
        "id": "9b3b8f81"
      },
      "outputs": [],
      "source": [
        "preds = np.where(model.predict(X_test)>0.5,1.0,0.0).flatten().astype('int32')"
      ]
    },
    {
      "cell_type": "code",
      "execution_count": 338,
      "id": "0dc0e3b2",
      "metadata": {
        "colab": {
          "base_uri": "https://localhost:8080/",
          "height": 206
        },
        "id": "0dc0e3b2",
        "outputId": "87d05da4-ba91-4994-903d-7b350b5ff65d"
      },
      "outputs": [
        {
          "output_type": "execute_result",
          "data": {
            "text/plain": [
              "                                                text  target\n",
              "0                 Just happened a terrible car crash       0\n",
              "1  Heard about #earthquake is different cities, s...       0\n",
              "2  there is a forest fire at spot pond, geese are...       1\n",
              "3           Apocalypse lighting. #Spokane #wildfires       1\n",
              "4      Typhoon Soudelor kills 28 in China and Taiwan       1"
            ],
            "text/html": [
              "\n",
              "  <div id=\"df-e3f8d25f-570b-42c9-99fc-abcbb9b79e90\">\n",
              "    <div class=\"colab-df-container\">\n",
              "      <div>\n",
              "<style scoped>\n",
              "    .dataframe tbody tr th:only-of-type {\n",
              "        vertical-align: middle;\n",
              "    }\n",
              "\n",
              "    .dataframe tbody tr th {\n",
              "        vertical-align: top;\n",
              "    }\n",
              "\n",
              "    .dataframe thead th {\n",
              "        text-align: right;\n",
              "    }\n",
              "</style>\n",
              "<table border=\"1\" class=\"dataframe\">\n",
              "  <thead>\n",
              "    <tr style=\"text-align: right;\">\n",
              "      <th></th>\n",
              "      <th>text</th>\n",
              "      <th>target</th>\n",
              "    </tr>\n",
              "  </thead>\n",
              "  <tbody>\n",
              "    <tr>\n",
              "      <th>0</th>\n",
              "      <td>Just happened a terrible car crash</td>\n",
              "      <td>0</td>\n",
              "    </tr>\n",
              "    <tr>\n",
              "      <th>1</th>\n",
              "      <td>Heard about #earthquake is different cities, s...</td>\n",
              "      <td>0</td>\n",
              "    </tr>\n",
              "    <tr>\n",
              "      <th>2</th>\n",
              "      <td>there is a forest fire at spot pond, geese are...</td>\n",
              "      <td>1</td>\n",
              "    </tr>\n",
              "    <tr>\n",
              "      <th>3</th>\n",
              "      <td>Apocalypse lighting. #Spokane #wildfires</td>\n",
              "      <td>1</td>\n",
              "    </tr>\n",
              "    <tr>\n",
              "      <th>4</th>\n",
              "      <td>Typhoon Soudelor kills 28 in China and Taiwan</td>\n",
              "      <td>1</td>\n",
              "    </tr>\n",
              "  </tbody>\n",
              "</table>\n",
              "</div>\n",
              "      <button class=\"colab-df-convert\" onclick=\"convertToInteractive('df-e3f8d25f-570b-42c9-99fc-abcbb9b79e90')\"\n",
              "              title=\"Convert this dataframe to an interactive table.\"\n",
              "              style=\"display:none;\">\n",
              "        \n",
              "  <svg xmlns=\"http://www.w3.org/2000/svg\" height=\"24px\"viewBox=\"0 0 24 24\"\n",
              "       width=\"24px\">\n",
              "    <path d=\"M0 0h24v24H0V0z\" fill=\"none\"/>\n",
              "    <path d=\"M18.56 5.44l.94 2.06.94-2.06 2.06-.94-2.06-.94-.94-2.06-.94 2.06-2.06.94zm-11 1L8.5 8.5l.94-2.06 2.06-.94-2.06-.94L8.5 2.5l-.94 2.06-2.06.94zm10 10l.94 2.06.94-2.06 2.06-.94-2.06-.94-.94-2.06-.94 2.06-2.06.94z\"/><path d=\"M17.41 7.96l-1.37-1.37c-.4-.4-.92-.59-1.43-.59-.52 0-1.04.2-1.43.59L10.3 9.45l-7.72 7.72c-.78.78-.78 2.05 0 2.83L4 21.41c.39.39.9.59 1.41.59.51 0 1.02-.2 1.41-.59l7.78-7.78 2.81-2.81c.8-.78.8-2.07 0-2.86zM5.41 20L4 18.59l7.72-7.72 1.47 1.35L5.41 20z\"/>\n",
              "  </svg>\n",
              "      </button>\n",
              "      \n",
              "  <style>\n",
              "    .colab-df-container {\n",
              "      display:flex;\n",
              "      flex-wrap:wrap;\n",
              "      gap: 12px;\n",
              "    }\n",
              "\n",
              "    .colab-df-convert {\n",
              "      background-color: #E8F0FE;\n",
              "      border: none;\n",
              "      border-radius: 50%;\n",
              "      cursor: pointer;\n",
              "      display: none;\n",
              "      fill: #1967D2;\n",
              "      height: 32px;\n",
              "      padding: 0 0 0 0;\n",
              "      width: 32px;\n",
              "    }\n",
              "\n",
              "    .colab-df-convert:hover {\n",
              "      background-color: #E2EBFA;\n",
              "      box-shadow: 0px 1px 2px rgba(60, 64, 67, 0.3), 0px 1px 3px 1px rgba(60, 64, 67, 0.15);\n",
              "      fill: #174EA6;\n",
              "    }\n",
              "\n",
              "    [theme=dark] .colab-df-convert {\n",
              "      background-color: #3B4455;\n",
              "      fill: #D2E3FC;\n",
              "    }\n",
              "\n",
              "    [theme=dark] .colab-df-convert:hover {\n",
              "      background-color: #434B5C;\n",
              "      box-shadow: 0px 1px 3px 1px rgba(0, 0, 0, 0.15);\n",
              "      filter: drop-shadow(0px 1px 2px rgba(0, 0, 0, 0.3));\n",
              "      fill: #FFFFFF;\n",
              "    }\n",
              "  </style>\n",
              "\n",
              "      <script>\n",
              "        const buttonEl =\n",
              "          document.querySelector('#df-e3f8d25f-570b-42c9-99fc-abcbb9b79e90 button.colab-df-convert');\n",
              "        buttonEl.style.display =\n",
              "          google.colab.kernel.accessAllowed ? 'block' : 'none';\n",
              "\n",
              "        async function convertToInteractive(key) {\n",
              "          const element = document.querySelector('#df-e3f8d25f-570b-42c9-99fc-abcbb9b79e90');\n",
              "          const dataTable =\n",
              "            await google.colab.kernel.invokeFunction('convertToInteractive',\n",
              "                                                     [key], {});\n",
              "          if (!dataTable) return;\n",
              "\n",
              "          const docLinkHtml = 'Like what you see? Visit the ' +\n",
              "            '<a target=\"_blank\" href=https://colab.research.google.com/notebooks/data_table.ipynb>data table notebook</a>'\n",
              "            + ' to learn more about interactive tables.';\n",
              "          element.innerHTML = '';\n",
              "          dataTable['output_type'] = 'display_data';\n",
              "          await google.colab.output.renderOutput(dataTable, element);\n",
              "          const docLink = document.createElement('div');\n",
              "          docLink.innerHTML = docLinkHtml;\n",
              "          element.appendChild(docLink);\n",
              "        }\n",
              "      </script>\n",
              "    </div>\n",
              "  </div>\n",
              "  "
            ]
          },
          "metadata": {},
          "execution_count": 338
        }
      ],
      "source": [
        "results = {'text':test.text, 'target':preds}\n",
        "df_results = pd.DataFrame(results)\n",
        "df_results.head()"
      ]
    },
    {
      "cell_type": "markdown",
      "source": [
        "    no ground truth for calc accuracy"
      ],
      "metadata": {
        "id": "Z4h9HBOdvFdD"
      },
      "id": "Z4h9HBOdvFdD"
    },
    {
      "cell_type": "code",
      "source": [
        ""
      ],
      "metadata": {
        "id": "NEHjTdbavJKP"
      },
      "id": "NEHjTdbavJKP",
      "execution_count": null,
      "outputs": []
    }
  ],
  "metadata": {
    "kernelspec": {
      "display_name": "Python 3 (ipykernel)",
      "language": "python",
      "name": "python3"
    },
    "language_info": {
      "codemirror_mode": {
        "name": "ipython",
        "version": 3
      },
      "file_extension": ".py",
      "mimetype": "text/x-python",
      "name": "python",
      "nbconvert_exporter": "python",
      "pygments_lexer": "ipython3",
      "version": "3.9.7"
    },
    "colab": {
      "name": "Final_project_hozaifa.ipynb",
      "provenance": []
    }
  },
  "nbformat": 4,
  "nbformat_minor": 5
}